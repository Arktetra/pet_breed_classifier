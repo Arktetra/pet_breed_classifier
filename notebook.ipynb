{
 "cells": [
  {
   "cell_type": "code",
   "execution_count": null,
   "metadata": {},
   "outputs": [],
   "source": [
    "import time\n",
    "import regex as re\n",
    "\n",
    "import matplotlib.pyplot as plt\n",
    "import pandas as pd\n",
    "\n",
    "from pathlib import Path\n",
    "\n",
    "import torch\n",
    "import torch.nn as nn\n",
    "import torch.optim as optim\n",
    "from torch.optim import lr_scheduler\n",
    "from torch.utils.data import Dataset\n",
    "from torch.utils.data import DataLoader\n",
    "\n",
    "from torchvision import models\n",
    "from torchvision import datasets\n",
    "from torchvision.transforms import v2\n",
    "\n",
    "from tempfile import TemporaryDirectory"
   ]
  },
  {
   "cell_type": "code",
   "execution_count": null,
   "metadata": {},
   "outputs": [],
   "source": [
    "device = (\n",
    "    \"cuda\" if torch.cuda.is_available() else \"cpu\"\n",
    ")"
   ]
  },
  {
   "cell_type": "code",
   "execution_count": null,
   "metadata": {},
   "outputs": [],
   "source": [
    "training_data = datasets.OxfordIIITPet(\n",
    "    root = \"data\",\n",
    "    split = \"trainval\",\n",
    "    download = True,\n",
    "    transform = v2.Compose([\n",
    "        v2.ToImage(),\n",
    "        v2.RandomResizedCrop(size = (224, 224), antialias = True),\n",
    "        v2.RandomHorizontalFlip(p = 0.5),\n",
    "        v2.ToDtype(torch.float32, scale = True),\n",
    "        v2.Normalize(mean = [0.485, 0.456, 0.406], std = [0.229, 0.224, 0.225])\n",
    "    ])\n",
    ")\n",
    "\n",
    "test_data = datasets.OxfordIIITPet(\n",
    "    root = \"data\",\n",
    "    split = \"test\",\n",
    "    download = True,\n",
    "    transform = v2.Compose([\n",
    "        v2.ToImage(),\n",
    "        v2.Resize(256),\n",
    "        v2.CenterCrop(224),\n",
    "        v2.ToDtype(torch.float32, scale = True),\n",
    "        v2.Normalize(mean = [0.485, 0.456, 0.406], std = [0.229, 0.224, 0.225])\n",
    "    ])\n",
    ")"
   ]
  },
  {
   "cell_type": "markdown",
   "metadata": {},
   "source": [
    "The normalize in tranform dismisses the color changes or small intensity changes of the same content in different images. This will enable the model to learn the real structures instead of dealing with the scale differences."
   ]
  },
  {
   "cell_type": "code",
   "execution_count": null,
   "metadata": {},
   "outputs": [],
   "source": [
    "path = Path(\"data/oxford-iiit-pet\")\n",
    "\n",
    "df = pd.read_csv(\n",
    "    path / \"annotations/test.txt\",\n",
    "    sep = \" \",\n",
    "    names = ['Breed', 'Class ID', 'Species', 'Breed ID']\n",
    ")"
   ]
  },
  {
   "cell_type": "code",
   "execution_count": null,
   "metadata": {},
   "outputs": [],
   "source": [
    "class_map = {class_id: \"\".join(re.findall(r\"(.+)_\\d+$\", breed))\n",
    "             for breed, class_id in zip(df['Breed'], df['Class ID'] - 1)}"
   ]
  },
  {
   "cell_type": "code",
   "execution_count": null,
   "metadata": {},
   "outputs": [],
   "source": [
    "datasets = {\n",
    "    'train': training_data,\n",
    "    'test': test_data\n",
    "}\n",
    "\n",
    "datasets_size = {\n",
    "    'train': len(training_data),\n",
    "    'test': len(test_data)\n",
    "}\n",
    "\n",
    "dataloaders = {x: DataLoader(\n",
    "                    datasets[x],\n",
    "                    shuffle = True,\n",
    "                    batch_size = 64,\n",
    "                    num_workers = 2,\n",
    "                    persistent_workers = True,\n",
    "                    pin_memory = True\n",
    "                ) for x in ['train', 'test']}"
   ]
  }
 ],
 "metadata": {
  "kernelspec": {
   "display_name": "base",
   "language": "python",
   "name": "python3"
  },
  "language_info": {
   "name": "python",
   "version": "3.11.4"
  }
 },
 "nbformat": 4,
 "nbformat_minor": 2
}
